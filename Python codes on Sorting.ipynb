{
 "cells": [
  {
   "cell_type": "code",
   "execution_count": 1,
   "metadata": {},
   "outputs": [
    {
     "name": "stdout",
     "output_type": "stream",
     "text": [
      "5\n"
     ]
    }
   ],
   "source": [
    "a=2\n",
    "b=3\n",
    "sum=a+b\n",
    "print(sum)"
   ]
  },
  {
   "cell_type": "code",
   "execution_count": 9,
   "metadata": {},
   "outputs": [
    {
     "name": "stdout",
     "output_type": "stream",
     "text": [
      "Sorted array is:\n",
      "1\n",
      "2\n",
      "10\n",
      "23\n",
      "31\n",
      "40\n"
     ]
    }
   ],
   "source": [
    "def bubbleSort(arr):\n",
    " n = len(arr)\n",
    " \n",
    " for i in range(n):\n",
    "  for j in range(0, n - i - 1):\n",
    "         if arr[j] > arr[j + 1]:\n",
    "          arr[j], arr[j + 1] = arr[j + 1], arr[j]\n",
    "                 \n",
    "\n",
    " \n",
    "\n",
    "arr = [2,1,10,23,40,31]\n",
    " \n",
    "bubbleSort(arr)\n",
    " \n",
    "print(\"Sorted array is:\")\n",
    "for i in range(len(arr)):\n",
    "    print(\"%d\" % arr[i])"
   ]
  },
  {
   "cell_type": "code",
   "execution_count": 11,
   "metadata": {},
   "outputs": [
    {
     "name": "stdout",
     "output_type": "stream",
     "text": [
      "The unsorted list is: [7, 2, 1, 6, 10, 3, 9]\n",
      "The sorted new list is: [1, 2, 3, 6, 7, 9, 10]\n"
     ]
    }
   ],
   "source": [
    "def insertion_sort(list1): \n",
    "   \n",
    "        for i in range(1, len(list1)): \n",
    "   \n",
    "            a = list1[i] \n",
    "   \n",
    "          \n",
    "            j = i - 1 \n",
    "           \n",
    "            while j >= 0 and a < list1[j]: \n",
    "                list1[j + 1] = list1[j] \n",
    "                j -= 1 \n",
    "                 \n",
    "            list1[j + 1] = a \n",
    "             \n",
    "        return list1 \n",
    "            \n",
    "list1 = [7,2,1,6,10,3,9] \n",
    "print(\"The unsorted list is:\", list1) \n",
    "print(\"The sorted new list is:\", insertion_sort(list1))"
   ]
  },
  {
   "cell_type": "code",
   "execution_count": 12,
   "metadata": {},
   "outputs": [
    {
     "name": "stdout",
     "output_type": "stream",
     "text": [
      "Sorted Array in Ascending Order is :\n",
      "[1, 2, 6, 7]\n"
     ]
    }
   ],
   "source": [
    "def selectionSort(array, size):\n",
    "     \n",
    "    for s in range(size):\n",
    "        min_idx = s\n",
    "         \n",
    "        for i in range(s + 1, size):\n",
    "             \n",
    "           \n",
    "            if array[i] < array[min_idx]:\n",
    "                min_idx = i\n",
    " \n",
    "        (array[s], array[min_idx]) = (array[min_idx], array[s])\n",
    " \n",
    "# Driver code\n",
    "data = [ 7, 2, 1, 6 ]\n",
    "size = len(data)\n",
    "selectionSort(data, size)\n",
    " \n",
    "print('Sorted Array in Ascending Order is :')\n",
    "print(data)"
   ]
  },
  {
   "cell_type": "code",
   "execution_count": null,
   "metadata": {},
   "outputs": [],
   "source": []
  },
  {
   "cell_type": "code",
   "execution_count": null,
   "metadata": {},
   "outputs": [],
   "source": []
  }
 ],
 "metadata": {
  "kernelspec": {
   "display_name": "Python 3",
   "language": "python",
   "name": "python3"
  },
  "language_info": {
   "codemirror_mode": {
    "name": "ipython",
    "version": 3
   },
   "file_extension": ".py",
   "mimetype": "text/x-python",
   "name": "python",
   "nbconvert_exporter": "python",
   "pygments_lexer": "ipython3",
   "version": "3.7.3"
  }
 },
 "nbformat": 4,
 "nbformat_minor": 2
}
